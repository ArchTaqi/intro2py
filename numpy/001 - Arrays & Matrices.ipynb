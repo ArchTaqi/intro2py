{
 "cells": [
  {
   "cell_type": "markdown",
   "metadata": {},
   "source": [
    "# Python Numpy"
   ]
  },
  {
   "cell_type": "markdown",
   "metadata": {},
   "source": [
    "NumPy is a Python package stands for ‘Numerical Python’. It is the core library for scientific computing, which contains a powerful **n-dimensional array object**. NumPy array can also be used as an efficient multi-dimensional container for generic data.\n",
    "<hr >"
   ]
  },
  {
   "cell_type": "markdown",
   "metadata": {},
   "source": [
    "## Numpy Arrays & Matrices"
   ]
  },
  {
   "cell_type": "markdown",
   "metadata": {},
   "source": [
    "**Numpy array** is a powerful N-dimensional array object which is in the form of rows and columns. We can initialize numpy arrays from nested Python lists and access it elements.\n",
    "\n",
    "- Numpy matrices are strictly 2-dimensional, while numpy arrays (ndarrays) are N-dimensional. \n",
    "- Matrix objects are a subclass of ndarray, so they inherit all the attributes and methods of ndarrays.\n",
    "\n",
    "NumPy arrays are a bit like Python lists, but still very much different at the same time. \n",
    "<hr>"
   ]
  },
  {
   "cell_type": "code",
   "execution_count": 7,
   "metadata": {},
   "outputs": [],
   "source": [
    "import numpy as np"
   ]
  },
  {
   "cell_type": "code",
   "execution_count": 8,
   "metadata": {},
   "outputs": [
    {
     "data": {
      "text/plain": [
       "array([1, 2, 3])"
      ]
     },
     "execution_count": 8,
     "metadata": {},
     "output_type": "execute_result"
    }
   ],
   "source": [
    "np.array([1,2,3])"
   ]
  },
  {
   "cell_type": "code",
   "execution_count": 9,
   "metadata": {},
   "outputs": [
    {
     "data": {
      "text/plain": [
       "array([[1, 2, 3],\n",
       "       [4, 5, 6]])"
      ]
     },
     "execution_count": 9,
     "metadata": {},
     "output_type": "execute_result"
    }
   ],
   "source": [
    "np.array([(1,2,3),(4,5,6)])"
   ]
  },
  {
   "cell_type": "code",
   "execution_count": 24,
   "metadata": {},
   "outputs": [
    {
     "data": {
      "text/plain": [
       "array([['Thriller', 'Back in Black'],\n",
       "       ['The Dark side of the Moon', 'The BodyGuard'],\n",
       "       ['Bat Out of Hell', 'Their Greatest Hits(1971-1975)'],\n",
       "       ['Saturday Night Fever', 'Rumours']], dtype='<U30')"
      ]
     },
     "execution_count": 24,
     "metadata": {},
     "output_type": "execute_result"
    }
   ],
   "source": [
    "album_list=[[\"Thriller\",\"Back in Black\"],\\\n",
    "                        [\"The Dark side of the Moon\",\"The BodyGuard\"], \\\n",
    "                        [\"Bat Out of Hell\",\"Their Greatest Hits(1971-1975)\"],\\\n",
    "                        [\"Saturday Night Fever\",\"Rumours\"]]\n",
    "np.array(album_list)"
   ]
  },
  {
   "cell_type": "markdown",
   "metadata": {},
   "source": [
    "### NumPy Array v/s Python List"
   ]
  },
  {
   "cell_type": "markdown",
   "metadata": {},
   "source": [
    "Use python numpy array instead of a list because;\n",
    "\n",
    "- Less Memory\n",
    "- Fast\n",
    "- Convenient"
   ]
  },
  {
   "cell_type": "code",
   "execution_count": 23,
   "metadata": {},
   "outputs": [
    {
     "name": "stdout",
     "output_type": "stream",
     "text": [
      "------------------------------------- Less Memory -------------------------------------\n",
      "Memory allocated to 10 Lakh size list is :28000000\n",
      "Memory allocated to 10 Lakh size numpy array is :8000000\n",
      "\n",
      "------------------------------------- Fast -------------------------------------\n",
      "Time taken 10 Lakh size of List :134.63497161865234\n",
      "Time taken 10 Lakh size of Numpy array :37.77742385864258\n",
      "\n",
      "------------------------------------- convenient -------------------------------------\n"
     ]
    }
   ],
   "source": [
    "import numpy as np\n",
    "import time\n",
    "import sys\n",
    "\n",
    "SIZE = 1000000\n",
    "print(\"------------------------------------- Less Memory -------------------------------------\")\n",
    "\n",
    "S = range(SIZE)\n",
    "print(\"Memory allocated to 10 Lakh size list is :\" + str(sys.getsizeof(5)*len(S)))\n",
    " \n",
    "D = np.arange(SIZE)\n",
    "print(\"Memory allocated to 10 Lakh size numpy array is :\" + str(D.size*D.itemsize))\n",
    "\n",
    "print(\"\\n------------------------------------- Fast -------------------------------------\")\n",
    "\n",
    "L1= range(SIZE)\n",
    "L2= range(SIZE)\n",
    " \n",
    "start= time.time()\n",
    "result=[(x,y) for x,y in zip(L1,L2)]\n",
    "print(\"Time taken 10 Lakh size of List :\"  + str((time.time()-start)*1000))\n",
    "\n",
    "A1= np.arange(SIZE)\n",
    "A2=np.arange(SIZE)\n",
    "\n",
    "start=time.time()\n",
    "result= A1+A2\n",
    "print(\"Time taken 10 Lakh size of Numpy array :\"  + str((time.time()-start)*1000))\n",
    "\n",
    "print(\"\\n------------------------------------- convenient -------------------------------------\")\n",
    "\n",
    "# ‘for’ loop for a list which returns the concatenation of both the lists\n",
    "# whereas for numpy arrays, we have just added the two array by simply printing A1+A2.\n",
    "\n",
    "# That’s why working with numpy is much easier and convenient when compared to the lists."
   ]
  },
  {
   "cell_type": "markdown",
   "metadata": {},
   "source": [
    "### NumPy Operations"
   ]
  },
  {
   "cell_type": "code",
   "execution_count": 12,
   "metadata": {},
   "outputs": [
    {
     "name": "stdout",
     "output_type": "stream",
     "text": [
      "2\n",
      "8\n",
      "int64\n",
      "8\n",
      "3\n",
      "1\n",
      "3\n",
      "6\n",
      "(2, 3)\n",
      "[[1 2]\n",
      " [3 4]\n",
      " [5 6]]\n",
      "[[0 0 0]\n",
      " [0 0 0]]\n",
      "[[ 1  4  9]\n",
      " [ 9 16 25]]\n",
      "[[1. 1. 1.]\n",
      " [1. 1. 1.]]\n"
     ]
    }
   ],
   "source": [
    "import numpy as np\n",
    "\n",
    "a = np.array([(1,2,3,4),(3,4,5,6)])\n",
    "print(a.ndim)                        # find the dimension of the array\n",
    "print(a.itemsize)                    # byte size of every element occupies in the numpy array.\n",
    "print(a.dtype)                       # datatype of every element\n",
    "print(a.size)\n",
    "print(a[0,2])                        # extracting particular set of elements from an array.\n",
    "\n",
    "\n",
    "a= np.array([1,2,3])\n",
    "print(a.min())\n",
    "print(a.max())\n",
    "print(a.sum())\n",
    "\n",
    "a=np.array([(1,2,3),(4,5,6)])\n",
    "print(a.shape)                      # works with 2D array\n",
    "print(a.reshape(3,2))               # transform rows * colum to columns * rows, works with 2D array\n",
    "\n",
    "\n",
    "x= np.array([(1,2,3),(3,4,5)])\n",
    "y= np.array([(1,2,3),(3,4,5)])\n",
    "print(x-y)\n",
    "print(x*y)\n",
    "print(x/y)"
   ]
  },
  {
   "cell_type": "code",
   "execution_count": null,
   "metadata": {},
   "outputs": [],
   "source": []
  },
  {
   "cell_type": "code",
   "execution_count": null,
   "metadata": {},
   "outputs": [],
   "source": []
  },
  {
   "cell_type": "markdown",
   "metadata": {},
   "source": [
    "# Data Frames "
   ]
  },
  {
   "cell_type": "code",
   "execution_count": null,
   "metadata": {},
   "outputs": [],
   "source": []
  }
 ],
 "metadata": {
  "kernelspec": {
   "display_name": "Python 3",
   "language": "python",
   "name": "python3"
  },
  "language_info": {
   "codemirror_mode": {
    "name": "ipython",
    "version": 3
   },
   "file_extension": ".py",
   "mimetype": "text/x-python",
   "name": "python",
   "nbconvert_exporter": "python",
   "pygments_lexer": "ipython3",
   "version": "3.6.5"
  }
 },
 "nbformat": 4,
 "nbformat_minor": 2
}
