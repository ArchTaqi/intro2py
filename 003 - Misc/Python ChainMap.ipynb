{
 "cells": [
  {
   "cell_type": "markdown",
   "metadata": {},
   "source": [
    "# Python ChainMap"
   ]
  },
  {
   "cell_type": "markdown",
   "metadata": {},
   "source": [
    "A **ChainMap** is a class from the collections module that provides the ability to link multiple mappings together such that they end up being a single unit."
   ]
  },
  {
   "cell_type": "markdown",
   "metadata": {},
   "source": [
    "If you look at the documentation, you will notice that it accepts `*maps`, which means that a ChainMap will accept any number of mappings or dictionaries and turn them into a single view that you can update."
   ]
  },
  {
   "cell_type": "code",
   "execution_count": 2,
   "metadata": {},
   "outputs": [
    {
     "data": {
      "text/plain": [
       "500"
      ]
     },
     "execution_count": 2,
     "metadata": {},
     "output_type": "execute_result"
    }
   ],
   "source": [
    "from collections import ChainMap\n",
    "car_parts = {'hood': 500, 'engine': 5000, 'front_door': 750}\n",
    "car_options = {'A/C': 1000, 'Turbo': 2500, 'rollbar': 300}\n",
    "car_accessories = {'cover': 100, 'hood_ornament': 150, 'seat_cover': 99}\n",
    "car_pricing = ChainMap(car_accessories, car_options, car_parts)\n",
    "car_pricing['hood']"
   ]
  },
  {
   "cell_type": "markdown",
   "metadata": {},
   "source": [
    "This is especially useful if you want to set up defaults."
   ]
  },
  {
   "cell_type": "markdown",
   "metadata": {},
   "source": [
    "Let’s pretend that we want to create an application that has some defaults. The application will also be aware of the operating system’s environment variables. If there is an environment variable that matches one of the keys that we are defaulting to in our application, the environment will override our default. Let’s further pretend that we can pass arguments to our application. These arguments take precedence over the environment and the defaults. This is one place where a ChainMap can really shine. "
   ]
  },
  {
   "cell_type": "code",
   "execution_count": 3,
   "metadata": {},
   "outputs": [
    {
     "name": "stderr",
     "output_type": "stream",
     "text": [
      "usage: ipykernel_launcher.py [-h] [-u USERNAME] [-p PASSWORD]\n",
      "ipykernel_launcher.py: error: unrecognized arguments: -f /run/user/1000/jupyter/kernel-c25d10c9-3691-4013-9274-5c81664a44d7.json\n"
     ]
    },
    {
     "ename": "SystemExit",
     "evalue": "2",
     "output_type": "error",
     "traceback": [
      "An exception has occurred, use %tb to see the full traceback.\n",
      "\u001b[0;31mSystemExit\u001b[0m\u001b[0;31m:\u001b[0m 2\n"
     ]
    },
    {
     "name": "stderr",
     "output_type": "stream",
     "text": [
      "/home/muhammadtaqi/anaconda3/lib/python3.6/site-packages/IPython/core/interactiveshell.py:2971: UserWarning: To exit: use 'exit', 'quit', or Ctrl-D.\n",
      "  warn(\"To exit: use 'exit', 'quit', or Ctrl-D.\", stacklevel=1)\n"
     ]
    }
   ],
   "source": [
    "import argparse\n",
    "import os\n",
    "from collections import ChainMap\n",
    "def main():\n",
    "   app_defaults = {'username':'admin', 'password':'admin'}\n",
    "   parser = argparse.ArgumentParser()\n",
    "   parser.add_argument('-u', '--username')\n",
    "   parser.add_argument('-p', '--password')\n",
    "   args = parser.parse_args()\n",
    "   command_line_arguments = {key:value for key, value\n",
    "                             in vars(args).items() if value}\n",
    "   chain = ChainMap(command_line_arguments, os.environ,\n",
    "                    app_defaults)\n",
    "   print(chain['username'])\n",
    "if __name__ == '__main__':\n",
    "   main()\n",
    "   os.environ['username'] = 'test'\n",
    "   main()\n"
   ]
  },
  {
   "cell_type": "markdown",
   "metadata": {},
   "source": [
    "Let’s break this down a little. Here we import Python’s argparse module along with the os module. We also import ChainMap. Next, we have a simple function that has some silly defaults. I’ve seen these defaults used for some popular routers. Then we set up our argument parser and tell it how to handle certain command line options. You will notice that argparse doesn’t provide a way to get a dictionary object of its arguments, so we use a dict comprehension to extract what we need. The other cool piece here is the use of Python’s built-in vars. If you were to call it without an argument, vars would behave like Python’s built-inlocals. But if you do pass in an object, then vars is the equivalent to object’s __dict__ property.\n",
    "In other words, vars(args) equals args.__dict__. Finally, create our ChainMap by passing in our command line arguments (if there are any), then the environment variables, and finally the defaults. At the end of the code, we try calling our function, then setting an environment variable and calling it again. Give it a try and you’ll see that it prints out admin and then test as expected. Now, let’s try calling the script with a command line argument:\n"
   ]
  },
  {
   "cell_type": "markdown",
   "metadata": {},
   "source": [
    "python chain_map.py -u mike"
   ]
  },
  {
   "cell_type": "markdown",
   "metadata": {},
   "source": [
    "When I ran this, I got mike back twice. This is because our command line argument overrides everything else. It doesn’t matter that we set the environment because our ChainMap will look at the command line arguments first before anything else.\n",
    "Wrapping Up\n",
    "Now you now what a ChainMap is and how you might use it. I found them to be quite interesting and I think I already have a use-case or two for them that I hope to be implementing soon.\n"
   ]
  },
  {
   "cell_type": "markdown",
   "metadata": {},
   "source": [
    "## ChainMap — search multiple dictionaries "
   ]
  },
  {
   "cell_type": "markdown",
   "metadata": {},
   "source": [
    "ChainMap — search multiple dictionaries\n",
    "The ChainMap class manages a sequence of dictionaries, searching them in order to find values associated with keys. A ChainMap makes a good “context” container, since it can be treated as a stack with changes happening as the stack grows, then being discarded again as the stack shrinks.\n",
    "Accessing Values\n",
    "The ChainMap supports the same API as a regular dictionary for accessing existing values.\n",
    "collections_chainmap_read.py\n",
    "import collections\n",
    "\n",
    "a = {'a': 'A', 'c': 'C'}\n",
    "b = {'b': 'B', 'c': 'D'}\n",
    "\n",
    "m = collections.ChainMap(a, b)\n",
    "\n",
    "print('Individual Values')\n",
    "print('a = {}'.format(m['a']))\n",
    "print('b = {}'.format(m['b']))\n",
    "print('c = {}'.format(m['c']))\n",
    "print()\n",
    "\n",
    "print('Keys = {}'.format(list(m.keys())))\n",
    "print('Values = {}'.format(list(m.values())))\n",
    "print()\n",
    "\n",
    "print('Items:')\n",
    "for k, v in m.items():\n",
    "    print('{} = {}'.format(k, v))\n",
    "print()\n",
    "\n",
    "print('\"d\" in m: {}'.format(('d' in m)))\n",
    "\n",
    "\n",
    "The child mappings are searched in the order they are passed to the constructor, so the value reported for the key 'c' comes from the a dictionary.\n",
    "$ python3 collections_chainmap_read.py\n",
    "\n",
    "Individual Values\n",
    "a = A\n",
    "b = B\n",
    "c = C\n",
    "\n",
    "Keys = ['c', 'b', 'a']\n",
    "Values = ['C', 'B', 'A']\n",
    "\n",
    "Items:\n",
    "c = C\n",
    "b = B\n",
    "a = A\n",
    "\n",
    "\"d\" in m: False\n",
    "\n",
    "\n",
    "Reordering\n",
    "The ChainMap stores the list of mappings over which it searches in a list in its maps attribute. The list is mutable, so it is possible to add new mappings directly or to change the order of the elements to control look-up and update behavior.\n",
    "collections_chainmap_reorder.py\n",
    "import collections\n",
    "\n",
    "a = {'a': 'A', 'c': 'C'}\n",
    "b = {'b': 'B', 'c': 'D'}\n",
    "\n",
    "m = collections.ChainMap(a, b)\n",
    "\n",
    "print(m.maps)\n",
    "print('c = {}\\n'.format(m['c']))\n",
    "\n",
    "# reverse the list\n",
    "m.maps = list(reversed(m.maps))\n",
    "\n",
    "print(m.maps)\n",
    "print('c = {}'.format(m['c']))\n",
    "\n",
    "\n",
    "When the list of mappings is reversed, the value associated with 'c' changes.\n",
    "$ python3 collections_chainmap_reorder.py\n",
    "\n",
    "[{'c': 'C', 'a': 'A'}, {'c': 'D', 'b': 'B'}]\n",
    "c = C\n",
    "\n",
    "[{'c': 'D', 'b': 'B'}, {'c': 'C', 'a': 'A'}]\n",
    "c = D\n",
    "\n",
    "\n",
    "Updating Values\n",
    "A ChainMap does not cache the values in the child mappings, so if their contents are modified the results are reflected when the ChainMap is accessed.\n",
    "collections_chainmap_update_behind.py\n",
    "import collections\n",
    "\n",
    "a = {'a': 'A', 'c': 'C'}\n",
    "b = {'b': 'B', 'c': 'D'}\n",
    "\n",
    "m = collections.ChainMap(a, b)\n",
    "print('Before: {}'.format(m['c']))\n",
    "a['c'] = 'E'\n",
    "print('After : {}'.format(m['c']))\n",
    "\n",
    "\n",
    "Changing the values associated with existing keys and adding new elements works the same way.\n",
    "$ python3 collections_chainmap_update_behind.py\n",
    "\n",
    "Before: C\n",
    "After : E\n",
    "\n",
    "\n",
    "It is also possible to set values through the ChainMap directly, though only the first mapping in the chain is actually modified.\n",
    "collections_chainmap_update_directly.py\n",
    "import collections\n",
    "\n",
    "a = {'a': 'A', 'c': 'C'}\n",
    "b = {'b': 'B', 'c': 'D'}\n",
    "\n",
    "m = collections.ChainMap(a, b)\n",
    "print('Before:', m)\n",
    "m['c'] = 'E'\n",
    "print('After :', m)\n",
    "print('a:', a)\n",
    "\n",
    "\n",
    "When the new value is stored using m, the a mapping is updated.\n",
    "$ python3 collections_chainmap_update_directly.py\n",
    "\n",
    "Before: ChainMap({'c': 'C', 'a': 'A'}, {'c': 'D', 'b': 'B'})\n",
    "After : ChainMap({'c': 'E', 'a': 'A'}, {'c': 'D', 'b': 'B'})\n",
    "a: {'c': 'E', 'a': 'A'}\n",
    "\n",
    "\n",
    "ChainMap provides a convenience method for creating a new instance with one extra mapping at the front of the maps list to make it easy to avoid modifying the existing underlying data structures.\n",
    "collections_chainmap_new_child.py\n",
    "import collections\n",
    "\n",
    "a = {'a': 'A', 'c': 'C'}\n",
    "b = {'b': 'B', 'c': 'D'}\n",
    "\n",
    "m1 = collections.ChainMap(a, b)\n",
    "m2 = m1.new_child()\n",
    "\n",
    "print('m1 before:', m1)\n",
    "print('m2 before:', m2)\n",
    "\n",
    "m2['c'] = 'E'\n",
    "\n",
    "print('m1 after:', m1)\n",
    "print('m2 after:', m2)\n",
    "\n",
    "\n",
    "This stacking behavior is what makes it convenient to use ChainMap instances as template or application contexts, since it is easy to add or update values in one iteration, then discard the changes for the next iteration.\n",
    "$ python3 collections_chainmap_new_child.py\n",
    "\n",
    "m1 before: ChainMap({'c': 'C', 'a': 'A'}, {'c': 'D', 'b': 'B'})\n",
    "m2 before: ChainMap({}, {'c': 'C', 'a': 'A'}, {'c': 'D', 'b': 'B\n",
    "'})\n",
    "m1 after: ChainMap({'c': 'C', 'a': 'A'}, {'c': 'D', 'b': 'B'})\n",
    "m2 after: ChainMap({'c': 'E'}, {'c': 'C', 'a': 'A'}, {'c': 'D',\n",
    "'b': 'B'})\n",
    "\n",
    "\n",
    "For situations where the new context is known or built in advance it is also possible to pass a mapping to new_child().\n",
    "collections_chainmap_new_child_explicit.py\n",
    "import collections\n",
    "\n",
    "a = {'a': 'A', 'c': 'C'}\n",
    "b = {'b': 'B', 'c': 'D'}\n",
    "c = {'c': 'E'}\n",
    "\n",
    "m1 = collections.ChainMap(a, b)\n",
    "m2 = m1.new_child(c)\n",
    "\n",
    "print('m1[\"c\"] = {}'.format(m1['c']))\n",
    "print('m2[\"c\"] = {}'.format(m2['c']))\n",
    "\n",
    "\n",
    "This is the equivalent of\n",
    "m2 = collections.ChainMap(c, *m1.maps)\n",
    "\n",
    "\n",
    "and produces\n",
    "$ python3 collections_chainmap_new_child_explicit.py\n",
    "\n",
    "m1[\"c\"] = C\n",
    "m2[\"c\"] = E\n"
   ]
  },
  {
   "cell_type": "code",
   "execution_count": null,
   "metadata": {},
   "outputs": [],
   "source": []
  },
  {
   "cell_type": "markdown",
   "metadata": {},
   "source": [
    "## Reference \n",
    "\n",
    "    1. https://docs.python.org/3/library/collections.html#chainmap-objects"
   ]
  },
  {
   "cell_type": "code",
   "execution_count": null,
   "metadata": {},
   "outputs": [],
   "source": []
  }
 ],
 "metadata": {
  "kernelspec": {
   "display_name": "Python 3",
   "language": "python",
   "name": "python3"
  },
  "language_info": {
   "codemirror_mode": {
    "name": "ipython",
    "version": 3
   },
   "file_extension": ".py",
   "mimetype": "text/x-python",
   "name": "python",
   "nbconvert_exporter": "python",
   "pygments_lexer": "ipython3",
   "version": "3.6.5"
  }
 },
 "nbformat": 4,
 "nbformat_minor": 2
}
