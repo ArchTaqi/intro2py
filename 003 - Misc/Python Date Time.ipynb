{
 "cells": [
  {
   "cell_type": "markdown",
   "metadata": {},
   "source": [
    "# Python Date Time"
   ]
  },
  {
   "cell_type": "markdown",
   "metadata": {},
   "source": [
    "-  `time` (low level)\n",
    "-  `datetime` (high level Object-oriented interface to dates and times)"
   ]
  },
  {
   "cell_type": "code",
   "execution_count": 14,
   "metadata": {},
   "outputs": [
    {
     "ename": "SyntaxError",
     "evalue": "invalid syntax (<ipython-input-14-a44b07bdfebb>, line 11)",
     "output_type": "error",
     "traceback": [
      "\u001b[0;36m  File \u001b[0;32m\"<ipython-input-14-a44b07bdfebb>\"\u001b[0;36m, line \u001b[0;32m11\u001b[0m\n\u001b[0;31m    Getting locals date and time in Python\u001b[0m\n\u001b[0m                 ^\u001b[0m\n\u001b[0;31mSyntaxError\u001b[0m\u001b[0;31m:\u001b[0m invalid syntax\n"
     ]
    }
   ],
   "source": [
    "import time\n",
    "\n",
    "time.strftime(format)\n",
    "\n",
    "print (time.strftime(\"%H:%M:%S\"))    # 23:46:08\n",
    "\n",
    "## 12 hour format ##\n",
    "print (time.strftime(\"%I:%M:%S\"))      # 11:46:08\n",
    "\n",
    "## dd/mm/yyyy format\n",
    "print (time.strftime(\"%d/%m/%Y\"))       # 04/10/2013\n",
    "Getting locals date and time in Python\n",
    "now = time.strftime(\"%c\")\n",
    "\n",
    "## date and time representation\n",
    "print (\"Current date & time \" + time.strftime(\"%c\"))   #Current date & time Sat Oct  5 00:04:59 2013\n",
    "\n",
    "## Only date representation\n",
    "print (\"Current date \"  + time.strftime(\"%x\"))         # Current date 10/05/13 \n",
    "\n",
    "## Only time representation\n",
    "print (\"Current time \" + time.strftime(\"%X\"))          # Current time 00:04:59\n",
    "\n",
    "## Display current date and time from now variable \n",
    "print (\"Current time %s\"  % now )                   # Current time Sat Oct  5 00:04:59 2013"
   ]
  },
  {
   "cell_type": "code",
   "execution_count": 11,
   "metadata": {},
   "outputs": [
    {
     "name": "stdout",
     "output_type": "stream",
     "text": [
      "Current date & time = 2018-08-13 20:22:40.552291\n",
      "Date and time in ISO format = 2018-08-13T20:22:40.552291\n",
      "Current year = 2018\n",
      "Current month = 8\n",
      "Current date (day) =  13\n",
      "dd/mm/yyyy format =  13/8/2018\n",
      "Current hour = 20\n",
      "Current minute = 22\n",
      "Current second =  40\n",
      "hh:mm:ss format = 20:8:40\n"
     ]
    }
   ],
   "source": [
    "import datetime\n",
    "\n",
    "i = datetime.datetime.now()\n",
    " \n",
    "print (\"Current date & time = %s\" % str(i))\n",
    "\n",
    "print (\"Date and time in ISO format = %s\" % i.isoformat() )\n",
    "\n",
    "print (\"Current year = %s\" %i.year)\n",
    " \n",
    "print (\"Current month = %s\" %i.month)\n",
    " \n",
    "print (\"Current date (day) =  %s\" %i.day)\n",
    " \n",
    "print (\"dd/mm/yyyy format =  %s/%s/%s\" % (i.day, i.month, i.year) )\n",
    " \n",
    "print (\"Current hour = %s\" %i.hour)\n",
    " \n",
    "print (\"Current minute = %s\" %i.minute)\n",
    " \n",
    "print (\"Current second =  %s\" %i.second)\n",
    " \n",
    "print (\"hh:mm:ss format = %s:%s:%s\" % (i.hour, i.month, i.second) )\n"
   ]
  },
  {
   "cell_type": "markdown",
   "metadata": {},
   "source": [
    "You can use `date.strftime(format)` to get a string representing the date, controlled by an explicit format string "
   ]
  },
  {
   "cell_type": "code",
   "execution_count": 13,
   "metadata": {},
   "outputs": [
    {
     "name": "stdout",
     "output_type": "stream",
     "text": [
      "2018-08-13 20:23:41.127459\n",
      "2018/08/13 20:23:41\n"
     ]
    }
   ],
   "source": [
    "from datetime import datetime\n",
    " \n",
    "i = datetime.now()\n",
    " \n",
    "print(str(i))\n",
    " \n",
    "print(i.strftime('%Y/%m/%d %H:%M:%S'))"
   ]
  }
 ],
 "metadata": {
  "kernelspec": {
   "display_name": "Python 3",
   "language": "python",
   "name": "python3"
  },
  "language_info": {
   "codemirror_mode": {
    "name": "ipython",
    "version": 3
   },
   "file_extension": ".py",
   "mimetype": "text/x-python",
   "name": "python",
   "nbconvert_exporter": "python",
   "pygments_lexer": "ipython3",
   "version": "3.6.5"
  }
 },
 "nbformat": 4,
 "nbformat_minor": 2
}
