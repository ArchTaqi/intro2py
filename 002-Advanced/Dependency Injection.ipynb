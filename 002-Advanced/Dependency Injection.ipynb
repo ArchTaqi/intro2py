{
 "cells": [
  {
   "cell_type": "markdown",
   "metadata": {},
   "source": [
    "# Dependency Injection"
   ]
  },
  {
   "cell_type": "markdown",
   "metadata": {},
   "source": [
    "Let consider the following requirements:\n",
    "\n",
    "    \n",
    "> _You are the developer on Blipkart, an e-commerce website. You have been asked to build a **reusable SMS module** that other developers will use to send SMS’es. Watertel is a telecom company that provides a REST API for sending SMS’es, and your module needs to integrate with Watertel. Your module will be used by other modules such as logistics.py and orders.py._"
   ]
  },
  {
   "cell_type": "markdown",
   "metadata": {},
   "source": [
    "The client modules have a dependency on our module to complete a portion of its work which is - sending an SMS. So our module’s object has to be injected in the client’s module though the respective modules do not know each other directly."
   ]
  },
  {
   "cell_type": "markdown",
   "metadata": {},
   "source": [
    "## Why Dependency Injection?"
   ]
  },
  {
   "cell_type": "markdown",
   "metadata": {},
   "source": [
    "> _The essence of dependency injection is that it allows the client to remove all knowledge of a concrete implementation that it needs to use. This helps isolate the client from the impact of design changes and defects. It promotes reusability, testability and maintainability._"
   ]
  },
  {
   "cell_type": "markdown",
   "metadata": {},
   "source": [
    "Basically, instead of having your objects creating a dependency or asking a factory object to make one for them, you pass the needed dependencies in to the object externally, and you make it somebody else’s problem. This “someone” is either an object further up the dependency graph, or a dependency injector (framework) that builds the dependency graph. A dependency as I’m using it here is any other object the current object needs to hold a reference to.\n",
    "\n",
    "The client modules ie. `orders.py` and `logistics.py` can import our module’s object and then inject it where it needs the module to perform its task.\n",
    "\n",
    "This will explain how it should look like."
   ]
  },
  {
   "cell_type": "markdown",
   "metadata": {},
   "source": [
    "```python\n",
    "# In sms.py:\n",
    "from django.conf import settings\n",
    "\n",
    "class SmsClient:\n",
    "    def __init__(self, url, username, password):\n",
    "        self.username = username\n",
    "        self.password = password\n",
    "\n",
    "    def send_sms(phone_number, message):\n",
    "        # TODO - write code to send sms\n",
    "        pass\n",
    "\n",
    "sms_client = SmsClient(settings.sms_url, settings.sms_username, settings.sms_password)\n",
    "```"
   ]
  },
  {
   "cell_type": "markdown",
   "metadata": {},
   "source": [
    "and in `orders.py`:"
   ]
  },
  {
   "cell_type": "markdown",
   "metadata": {},
   "source": [
    "```python\n",
    "# orders.py\n",
    "from sms import sms_client\n",
    "...\n",
    "# when you need to send an sms\n",
    "sms_client.send_sms(phone_number, message)\n",
    "```"
   ]
  },
  {
   "cell_type": "markdown",
   "metadata": {},
   "source": [
    "## How does Dependency Injection help us?"
   ]
  },
  {
   "cell_type": "markdown",
   "metadata": {},
   "source": [
    "1. Dependency Injection decreases coupling between a class and its dependency.\n",
    "2. Because dependency injection doesn’t require any change in code behavior it can be applied to legacy code as a refactoring. The result is clients that are more independent and that are easier to unit test in isolation using stubs or mock objects that simulate other objects not under test. This ease of testing is often the first benefit noticed when using dependency injection.\n",
    "3. To free modules from assumptions about how other systems do what they do and instead rely on contract.\n",
    "4. To prevent side effects when replacing a module.\n"
   ]
  },
  {
   "cell_type": "markdown",
   "metadata": {},
   "source": [
    "## Summary"
   ]
  },
  {
   "cell_type": "markdown",
   "metadata": {},
   "source": [
    "So in all, dependency injection is a great practice to make our modules more testable, maintainable and scalable and we should use it more often to make our lives easier as developers."
   ]
  },
  {
   "cell_type": "code",
   "execution_count": null,
   "metadata": {},
   "outputs": [],
   "source": []
  }
 ],
 "metadata": {
  "kernelspec": {
   "display_name": "Python 3",
   "language": "python",
   "name": "python3"
  },
  "language_info": {
   "codemirror_mode": {
    "name": "ipython",
    "version": 3
   },
   "file_extension": ".py",
   "mimetype": "text/x-python",
   "name": "python",
   "nbconvert_exporter": "python",
   "pygments_lexer": "ipython3",
   "version": "3.6.5"
  }
 },
 "nbformat": 4,
 "nbformat_minor": 2
}
