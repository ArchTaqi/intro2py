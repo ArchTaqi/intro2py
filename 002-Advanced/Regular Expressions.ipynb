{
 "cells": [
  {
   "cell_type": "markdown",
   "metadata": {},
   "source": [
    "# Regular Expressions"
   ]
  },
  {
   "cell_type": "code",
   "execution_count": 2,
   "metadata": {},
   "outputs": [
    {
     "name": "stdout",
     "output_type": "stream",
     "text": [
      "doej@example.com's domain is example\n",
      " jadoe@sample.ca's domain is sample\n",
      " qsus@example.br's domain is example\n",
      " joes@sample.com's domain is sample\n"
     ]
    }
   ],
   "source": [
    "email_dict = {'Name': ['John Doe','Jane Doe','Susan Quinn','Joe Star'],\\\n",
    "              'Email' : ['doej@example.com', 'jadoe@sample.ca', 'qsus@example.br', 'joes@sample.com']}\n",
    "\n",
    "import pandas as pd\n",
    "\n",
    "df = pd.DataFrame(email_dict,columns = ['Name','Email'])\n",
    "\n",
    "emails = df['Email'].to_string(header = False,index=False)\n",
    "emails = emails.splitlines()\n",
    "\n",
    "import re\n",
    "\n",
    "pattern = r'.+@(.+)\\.' # the parentheses here specify a group. \n",
    "                        # we can access the content matched in this group using .group(1) (see below)\n",
    "regex = re.compile(pattern)\n",
    "\n",
    "for email in emails:\n",
    "    result = regex.match(email)\n",
    "    print(email + '\\'s domain is ' + result.group(1))"
   ]
  },
  {
   "cell_type": "code",
   "execution_count": null,
   "metadata": {},
   "outputs": [],
   "source": []
  }
 ],
 "metadata": {
  "kernelspec": {
   "display_name": "Python 3",
   "language": "python",
   "name": "python3"
  },
  "language_info": {
   "codemirror_mode": {
    "name": "ipython",
    "version": 3
   },
   "file_extension": ".py",
   "mimetype": "text/x-python",
   "name": "python",
   "nbconvert_exporter": "python",
   "pygments_lexer": "ipython3",
   "version": "3.6.5"
  }
 },
 "nbformat": 4,
 "nbformat_minor": 2
}
