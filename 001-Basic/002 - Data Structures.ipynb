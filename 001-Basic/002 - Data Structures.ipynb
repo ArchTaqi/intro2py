{
 "cells": [
  {
   "cell_type": "markdown",
   "metadata": {},
   "source": [
    "# Python Data Structures\n",
    "\n",
    "In this lecture, we will learn about Objects and Data Structures Python and how to use them.\n",
    "\n",
    "We'll learn about the following topics:\n",
    "\n",
    "    1.) Strings\n",
    "    2.) Numerics\n",
    "    3.) Lists\n",
    "    4.) Tuple\n",
    "    5.) Sets\n",
    "    6.) Dictionaries\n",
    "    7.) List Comprehension"
   ]
  },
  {
   "cell_type": "markdown",
   "metadata": {},
   "source": [
    "# Strings"
   ]
  },
  {
   "cell_type": "markdown",
   "metadata": {},
   "source": [
    "strings are **_immutable on indexes_**."
   ]
  },
  {
   "cell_type": "code",
   "execution_count": 11,
   "metadata": {},
   "outputs": [
    {
     "ename": "TypeError",
     "evalue": "'str' object does not support item assignment",
     "output_type": "error",
     "traceback": [
      "\u001b[0;31m---------------------------------------------------------------------------\u001b[0m",
      "\u001b[0;31mTypeError\u001b[0m                                 Traceback (most recent call last)",
      "\u001b[0;32m<ipython-input-11-08dfabbc69d9>\u001b[0m in \u001b[0;36m<module>\u001b[0;34m()\u001b[0m\n\u001b[1;32m      1\u001b[0m \u001b[0mtext\u001b[0m \u001b[0;34m=\u001b[0m \u001b[0;34m\"Hello World\"\u001b[0m\u001b[0;34m\u001b[0m\u001b[0m\n\u001b[0;32m----> 2\u001b[0;31m \u001b[0mtext\u001b[0m\u001b[0;34m[\u001b[0m\u001b[0;36m0\u001b[0m\u001b[0;34m]\u001b[0m \u001b[0;34m=\u001b[0m \u001b[0;34m'Y'\u001b[0m\u001b[0;34m\u001b[0m\u001b[0m\n\u001b[0m",
      "\u001b[0;31mTypeError\u001b[0m: 'str' object does not support item assignment"
     ]
    }
   ],
   "source": [
    "text = \"Hello World\"\n",
    "text[0] = 'Y'"
   ]
  },
  {
   "cell_type": "markdown",
   "metadata": {},
   "source": [
    "In computer science, **string interning** is a method of storing only one copy of each distinct string value, which must be immutable. Interning strings makes some string processing tasks more time - or space-efficient at the cost of requiring more time when the string is created or interned.\n",
    "\n",
    "As strings are immutable objects in Python. It is possible for multiple variables to reference the same string object to save memory rather than creating a new object every time."
   ]
  },
  {
   "cell_type": "code",
   "execution_count": 7,
   "metadata": {},
   "outputs": [
    {
     "name": "stdout",
     "output_type": "stream",
     "text": [
      "True\n",
      "140209897025352\n",
      "140209897025352\n"
     ]
    }
   ],
   "source": [
    "a = \"wtf\"\n",
    "b = \"wtf\"\n",
    "print(a is b)               # True\n",
    "print(id(a))\n",
    "print(id(b))"
   ]
  },
  {
   "cell_type": "code",
   "execution_count": 9,
   "metadata": {},
   "outputs": [
    {
     "name": "stdout",
     "output_type": "stream",
     "text": [
      "False\n",
      "140209897023336\n",
      "140209897023560\n"
     ]
    }
   ],
   "source": [
    "a = \"wtf!\"\n",
    "b = \"wtf!\"\n",
    "print( a is b )              # False\n",
    "\n",
    "print(id(a))\n",
    "print(id(b))"
   ]
  },
  {
   "cell_type": "code",
   "execution_count": 10,
   "metadata": {},
   "outputs": [
    {
     "name": "stdout",
     "output_type": "stream",
     "text": [
      "140209897024512\n",
      "140209897024512\n"
     ]
    }
   ],
   "source": [
    "a, b = \"wtf!\", \"wtf!\"\n",
    "a is b              # True, because on same line\n",
    "\n",
    "print(id(a))\n",
    "print(id(b))"
   ]
  },
  {
   "cell_type": "markdown",
   "metadata": {},
   "source": [
    "Python sometimes implicitly interns strings.\n",
    "\n",
    "   -  All **_length 0 and length 1_** strings are interned.\n",
    "   -  Strings are interned at compile time (`'wtf'` will be interned but `''.join(['w', 't', 'f']` will not be interned)\n",
    "   -  Strings that are not composed of ASCII letters, digits or underscores, are not interned. This explains why 'wtf!' was not interned due to !.\n",
    "\n",
    "More: https://www.codementor.io/satwikkansal/do-you-really-think-you-know-strings-in-python-fnxh8mtha"
   ]
  },
  {
   "cell_type": "markdown",
   "metadata": {},
   "source": [
    "# Tuples ( )\n",
    "\n",
    "Tuples are **_immutable_**, **_unchangeable_**. Use only when fixed/static size i.e days in week."
   ]
  },
  {
   "cell_type": "markdown",
   "metadata": {},
   "source": [
    "# Lists [ ]\n",
    "\n",
    "Lists can actually hold different object types. Unlike strings, lists are mutable, changeable at runtime!\n",
    "\n",
    "- to add new elements to list use `list.append('b')`, `list.extend([4, 5])`, `list.insert(0, 2)`\n",
    "- to delete elements from list use `del list[1]`, `list.remove('new')`, `list.pop()`, `list.pop(1)`   \n",
    "    \n",
    "More on Lists https://docs.python.org/3/tutorial/datastructures.html"
   ]
  },
  {
   "cell_type": "markdown",
   "metadata": {},
   "source": [
    "** Db libs works this way in python**\n",
    "\n",
    "```python \n",
    "db = [(112, 'Taqi', 'employee'), (115, 'Salman', 'employee'), (116, 'Turab', 'client')]\n",
    "```\n",
    "\n",
    "- use `tuple` when you know how many columns you have (remember fixed/static size)\n",
    "- use `list` when you don't know how many rows you have\n",
    "\n",
    "More on Tuples : https://docs.python.org/3/tutorial/datastructures.html#tuples-and-sequences"
   ]
  },
  {
   "cell_type": "code",
   "execution_count": 18,
   "metadata": {},
   "outputs": [
    {
     "name": "stdout",
     "output_type": "stream",
     "text": [
      "Chaddar\n",
      "Chaddar\n",
      "Chafue\n",
      "Gouda\n",
      "0 Chaddar\n",
      "1 Chafue\n",
      "2 Gouda\n"
     ]
    }
   ],
   "source": [
    "cheeses = ['Chaddar', 'Edam', 'Gouda']\n",
    "\n",
    "#Traversing a list\n",
    "for cheese in cheeses:\n",
    "    print(cheese)\n",
    "\n",
    "#Traversing a list with enumerate, build in method returns index and value of each element in list\n",
    "for i,val in enumerate(cheeses):\n",
    "    print(i,val)    "
   ]
  },
  {
   "cell_type": "markdown",
   "metadata": {},
   "source": [
    "# Sets"
   ]
  },
  {
   "cell_type": "markdown",
   "metadata": {},
   "source": [
    "Sets are **mutable** **unordered** collection of **_unique_** elements."
   ]
  },
  {
   "cell_type": "code",
   "execution_count": 26,
   "metadata": {},
   "outputs": [
    {
     "name": "stdout",
     "output_type": "stream",
     "text": [
      "{'Hello', 1.0, (1, 2, 3)}\n",
      "{1, 2, 3}\n",
      "{1, 2, 3}\n",
      "{1, 2, 3, 4}\n",
      "{1, 2, 3, 4, 5, 6, 8}\n"
     ]
    }
   ],
   "source": [
    "# set of mixed datatypes\n",
    "my_set = {1.0, \"Hello\", (1, 2, 3)}\n",
    "print(my_set)\n",
    "\n",
    "my_set = set([1,2,3,2])\n",
    "print(my_set)\n",
    "\n",
    "my_set.add(2)\n",
    "print(my_set)\n",
    "\n",
    "my_set.update([2,3,4])\n",
    "print(my_set)\n",
    "\n",
    "my_set.update([4,5], {1,6,8})\n",
    "print(my_set)"
   ]
  },
  {
   "cell_type": "markdown",
   "metadata": {},
   "source": [
    "# Dictionaries\n",
    "\n",
    "A key, value data structre, that value can be almost any Python object. You can think of these Dictionaries as hash tables. \n",
    "\n",
    "**mappings?** Mappings are a collection of objects that are stored by a *key*, unlike a sequence that stored objects by their relative position. This is an important distinction, since mappings won't retain order since they have objects defined by a key."
   ]
  },
  {
   "cell_type": "code",
   "execution_count": 19,
   "metadata": {},
   "outputs": [
    {
     "name": "stdout",
     "output_type": "stream",
     "text": [
      "ham yes\n",
      "egg yes\n",
      "spam no\n"
     ]
    }
   ],
   "source": [
    "food = {\"ham\" : \"yes\", \"egg\" : \"yes\", \"spam\" : \"no\" }\n",
    "\n",
    "for i,value in food.items():\n",
    "    print(i,value)\n"
   ]
  }
 ],
 "metadata": {
  "kernelspec": {
   "display_name": "Python 3",
   "language": "python",
   "name": "python3"
  },
  "language_info": {
   "codemirror_mode": {
    "name": "ipython",
    "version": 3
   },
   "file_extension": ".py",
   "mimetype": "text/x-python",
   "name": "python",
   "nbconvert_exporter": "python",
   "pygments_lexer": "ipython3",
   "version": "3.6.5"
  }
 },
 "nbformat": 4,
 "nbformat_minor": 2
}
