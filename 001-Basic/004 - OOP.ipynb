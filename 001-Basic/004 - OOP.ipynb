{
 "cells": [
  {
   "cell_type": "markdown",
   "metadata": {},
   "source": [
    "# OOP in python"
   ]
  },
  {
   "cell_type": "markdown",
   "metadata": {},
   "source": [
    "Python is not completely object-oriented as it contains some procedural functions. Now, you must be wondering what is the **_difference between a procedural and object-oriented language_**. To clear your doubt, in a procedural language, the entire code is written into one long procedure even though it might contain functions and subroutines. It is not manageable as both data and logic get mixed together. But when we talk about object-oriented language, the program is split into self-contained objects or you can say into several mini-programs. Each object is representing a different part of the application and each of those objects has its own data and logic where they communicate among themselves. For example, a website has different objects such as images, videos etc. This was just a brief introduction to python class and object. Let’s get into more detail and understand what exactly is a python class."
   ]
  },
  {
   "cell_type": "markdown",
   "metadata": {},
   "source": [
    "- @staticMethod - Don't have access to self\n",
    "- @classMethod - \n",
    "- @abstractMethod - \n",
    "- @getter, setter and deleters"
   ]
  },
  {
   "cell_type": "markdown",
   "metadata": {},
   "source": [
    "## Functions vs Methods"
   ]
  },
  {
   "cell_type": "markdown",
   "metadata": {},
   "source": [
    "**_functions_** Takes some inputs A and return B. While **_method_** take some input A and return A in different shape."
   ]
  },
  {
   "cell_type": "code",
   "execution_count": 3,
   "metadata": {},
   "outputs": [
    {
     "name": "stdout",
     "output_type": "stream",
     "text": [
      "15\n"
     ]
    }
   ],
   "source": [
    "def do_something(a,b):\n",
    "    return a+b\n",
    "\n",
    "print (do_something(5,10))"
   ]
  },
  {
   "cell_type": "code",
   "execution_count": 4,
   "metadata": {},
   "outputs": [
    {
     "data": {
      "text/plain": [
       "'HELLO'"
      ]
     },
     "execution_count": 4,
     "metadata": {},
     "output_type": "execute_result"
    }
   ],
   "source": [
    "text = 'Hello'\n",
    "text.upper()"
   ]
  },
  {
   "cell_type": "markdown",
   "metadata": {},
   "source": [
    "**_Python Class -_** A class in python is the blueprint from which specific objects are created.\n",
    "\n",
    "- **_Class variable_** is a variable that is shared by all the different objects/instances of a class.\n",
    "- **_Instance variables_** are variables which are unique to each instance. It is defined inside a method and belongs only to the current instance of a class.\n",
    "- **_Methods_** are also called as functions which are defined in a class and describes the behaviour of an object."
   ]
  },
  {
   "cell_type": "code",
   "execution_count": 7,
   "metadata": {},
   "outputs": [
    {
     "name": "stdout",
     "output_type": "stream",
     "text": [
      "aayushi@edureka.co\n",
      "test@company.com\n"
     ]
    }
   ],
   "source": [
    "class employee:\n",
    "    pass\n",
    "#no attributes and methods\n",
    "emp_1=employee()\n",
    "emp_2=employee()\n",
    "#instance variable can be created manually\n",
    "emp_1.first='aayushi'\n",
    "emp_1.last='Johari'\n",
    "emp_1.email='aayushi@edureka.co'\n",
    "emp_1.pay=10000\n",
    "\n",
    "emp_2.first='test'\n",
    "emp_2.last='abc'\n",
    "emp_2.email='test@company.com'\n",
    "emp_2.pay=10000\n",
    "print(emp_1.email)\n",
    "print(emp_2.email)"
   ]
  },
  {
   "cell_type": "markdown",
   "metadata": {},
   "source": [
    "## Encapsulation"
   ]
  },
  {
   "cell_type": "markdown",
   "metadata": {},
   "source": [
    "achieved via **_Getters_** and **_Setters**."
   ]
  },
  {
   "cell_type": "markdown",
   "metadata": {},
   "source": [
    "## Polymorphism"
   ]
  },
  {
   "cell_type": "code",
   "execution_count": null,
   "metadata": {},
   "outputs": [],
   "source": [
    "Many forms, extended classess and overriding methods"
   ]
  },
  {
   "cell_type": "markdown",
   "metadata": {},
   "source": [
    "## Python Class: Abstraction"
   ]
  },
  {
   "cell_type": "code",
   "execution_count": null,
   "metadata": {},
   "outputs": [],
   "source": []
  }
 ],
 "metadata": {
  "kernelspec": {
   "display_name": "Python 3",
   "language": "python",
   "name": "python3"
  },
  "language_info": {
   "codemirror_mode": {
    "name": "ipython",
    "version": 3
   },
   "file_extension": ".py",
   "mimetype": "text/x-python",
   "name": "python",
   "nbconvert_exporter": "python",
   "pygments_lexer": "ipython3",
   "version": "3.6.5"
  }
 },
 "nbformat": 4,
 "nbformat_minor": 2
}
