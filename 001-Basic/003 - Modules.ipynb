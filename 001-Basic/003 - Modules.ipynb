{
 "cells": [
  {
   "cell_type": "markdown",
   "metadata": {},
   "source": [
    "# Python Modules"
   ]
  },
  {
   "cell_type": "markdown",
   "metadata": {},
   "source": [
    "Modules allows you to organize your code that is easier to understand and maintain. Put simply, a module is a file consisting of Python programming. Inside a module, you can define functions, classes, and variables.\n",
    "\n",
    "## How Python Search for a Module\n",
    "\n",
    "There are three steps performed the first time a program imports a given file:\n",
    "    1. Find the module’s file.\n",
    "    2. Compile it to bytecode if needed.\n",
    "    3. Run the module’s code to build the objects.\n",
    "\n",
    "If Python finds only a bytecode file on the search path and no source file for it, it simply loads the bytecode directly. This means that you can ship a program as just bytecode files and avoid sending source.\n",
    "\n",
    "Where does Python search for the modules?\n",
    "\n",
    "    1. The home directory of your program.\n",
    "    2. PATH environment variable directories.\n",
    "    3. Standard library directories.\n",
    "    4. The contents of any .pth files, if found.\n",
    "    5. The site packages home of your third-party extensions.\n",
    "    \n",
    "\n",
    "The combination of these items becomes the sys.path list. sys.path is the module search path. Python configures it at program startup. You can get your path like this:"
   ]
  },
  {
   "cell_type": "code",
   "execution_count": 1,
   "metadata": {},
   "outputs": [
    {
     "name": "stdout",
     "output_type": "stream",
     "text": [
      "['', '/home/muhammadtaqi/anaconda3/lib/python36.zip', '/home/muhammadtaqi/anaconda3/lib/python3.6', '/home/muhammadtaqi/anaconda3/lib/python3.6/lib-dynload', '/home/muhammadtaqi/anaconda3/lib/python3.6/site-packages', '/home/muhammadtaqi/anaconda3/lib/python3.6/site-packages/IPython/extensions', '/home/muhammadtaqi/.ipython']\n"
     ]
    }
   ],
   "source": [
    "import sys\n",
    "print(sys.path)"
   ]
  },
  {
   "cell_type": "markdown",
   "metadata": {},
   "source": [
    "`sys.path.append` or `sys.path.insert` will append your path for a single program run only.\n",
    "\n",
    "\n",
    "When you type import mymodule, Python will load any of the following:\n",
    "- Source code file named mymodule.py.\n",
    "- Bytecode file named mymodule.pyc.\n",
    "- Optimized bytecode file named mymodule.pyo.\n",
    "- Directory named mymodule for package imports.\n",
    "- Compiled extension module (like mymodule.so on Linux or mymodule.dll on Windows).\n",
    "- Compiled built-in module coded in C and statically linked into Python.\n",
    "- ZIP file component that is automatically extracted when imported.\n",
    "- Java class in the Jython version of Python.\n",
    "- .NET component written in the IronPython version of Python.\n",
    "\n",
    "If you have two different files, like mymodule.py andmymodule.dll, Python will load the first file found in the search path during the left-to-right search of sys.path.\n",
    "But what if Python finds both files in the same directory?\n",
    "In this case, Python follows a standard picking order, which is not guaranteed to stay the same over time. So, stay away from doing that.\n"
   ]
  },
  {
   "cell_type": "markdown",
   "metadata": {},
   "source": [
    "Let's learn how to create, install, upgrade, reload, and alias them."
   ]
  },
  {
   "cell_type": "markdown",
   "metadata": {},
   "source": [
    "## Create Modules"
   ]
  },
  {
   "cell_type": "markdown",
   "metadata": {},
   "source": [
    "Keep in mind that when creating a module, the module name becomes a variable (without the extension) inside your Python program, so you can’t name a module if.py."
   ]
  },
  {
   "cell_type": "markdown",
   "metadata": {},
   "source": [
    "## Installing Modules from source "
   ]
  },
  {
   "cell_type": "markdown",
   "metadata": {},
   "source": [
    "Many modules are written to use a system called Distutils, which is included with Python. Distutils is a very basic system that is included with Python.\n",
    "The module includes a special file called setup.py that handles the details.\n",
    "You can install Python modules from the source with \n",
    "\n",
    "`$ python setup.py install`"
   ]
  },
  {
   "cell_type": "markdown",
   "metadata": {},
   "source": [
    "## Importing Modules"
   ]
  },
  {
   "cell_type": "markdown",
   "metadata": {},
   "source": [
    "The first way is to use the import statement, and the second way is to use the from statement. Both of them will find, compile, and run. **The major difference is that import fetches the whole module, while from fetches the specified attributes from the modules.**\n",
    "\n"
   ]
  },
  {
   "cell_type": "markdown",
   "metadata": {},
   "source": [
    "```python\n",
    "import mymodule\n",
    "\n",
    "mymodule.myfunc()\n",
    "```\n",
    "\n",
    "#######################\n",
    "```python\n",
    "from mymodule import myfunc\n",
    "\n",
    "myfunc()\n",
    "```"
   ]
  },
  {
   "cell_type": "markdown",
   "metadata": {},
   "source": [
    "Actually, behind the scenes, from is an extension of import. The entire file is also loaded, but you will be provided with all attributes directly from your code."
   ]
  },
  {
   "cell_type": "markdown",
   "metadata": {},
   "source": [
    "## The Danger of Using From Statement"
   ]
  },
  {
   "cell_type": "markdown",
   "metadata": {},
   "source": [
    "Well, if you use the from statement to import variables that happen to have the same names as existing variables in your scope, then your variables will be silently overwritten.\n",
    "This problem, of course, doesn’t happen with the import statement. Since you type the module name to get its attributes, no collision happens. You should take care when using the from statement. "
   ]
  },
  {
   "cell_type": "markdown",
   "metadata": {},
   "source": [
    "## Reloading Modules"
   ]
  },
  {
   "cell_type": "markdown",
   "metadata": {},
   "source": [
    "Python modules are loaded and run on the first import — and the first import only. If you try to import the module again, Python will fetch the already loaded module again.\n",
    "To reload a module, you can use the reload function to achieve that. \n",
    "\n",
    "```python\n",
    "import module1\n",
    "module1.myfunc()\n",
    "from importlib import reload\n",
    "reload(module1)\n",
    "module1.myfunc()\n",
    "```\n"
   ]
  },
  {
   "cell_type": "markdown",
   "metadata": {},
   "source": [
    "## Module vs. Package?"
   ]
  },
  {
   "cell_type": "markdown",
   "metadata": {},
   "source": [
    "\n",
    "\n",
    "A Python module is simply a Python source file, which can expose classes, functions and global variables.\n",
    "\n",
    "When imported from another Python source file, the file name is treated as a namespace.\n",
    "\n",
    "A Python package is simply a directory of Python module(s).\n",
    "\n",
    "For example, imagine the following directory tree in /usr/lib/python/site-packages:\n",
    "```python\n",
    "mypackage/__init__.py <-- this is what tells Python to treat this directory as a package\n",
    "mypackage/mymodule.py\n",
    "```\n",
    "So then you would do:\n",
    "```python\n",
    "import mypackage.mymodule\n",
    "```\n",
    "or\n",
    "```python\n",
    "from mypackage.mymodule import myclass\n",
    "```\n"
   ]
  },
  {
   "cell_type": "code",
   "execution_count": null,
   "metadata": {},
   "outputs": [],
   "source": []
  }
 ],
 "metadata": {
  "kernelspec": {
   "display_name": "Python 3",
   "language": "python",
   "name": "python3"
  },
  "language_info": {
   "codemirror_mode": {
    "name": "ipython",
    "version": 3
   },
   "file_extension": ".py",
   "mimetype": "text/x-python",
   "name": "python",
   "nbconvert_exporter": "python",
   "pygments_lexer": "ipython3",
   "version": "3.6.5"
  }
 },
 "nbformat": 4,
 "nbformat_minor": 2
}
