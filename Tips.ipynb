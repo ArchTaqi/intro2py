{
 "cells": [
  {
   "cell_type": "markdown",
   "metadata": {},
   "source": [
    "# Tips"
   ]
  },
  {
   "cell_type": "markdown",
   "metadata": {},
   "source": [
    "## Performance Tips"
   ]
  },
  {
   "cell_type": "markdown",
   "metadata": {},
   "source": [
    "### 1.  dict.items() vs dict.iteritems()?"
   ]
  },
  {
   "cell_type": "markdown",
   "metadata": {},
   "source": [
    "`dict.items()` put all dictionary items in memory at once while, `dict.iteritems()` put all dictionary items in memroy step by step."
   ]
  },
  {
   "cell_type": "markdown",
   "metadata": {},
   "source": [
    "```python\n",
    "d={1:'one',2:'two',3:'three'}\n",
    "\n",
    ">>> d={1:'one',2:'two',3:'three'}\n",
    ">>> type(d.items())\n",
    "<type 'list'>\n",
    ">>> type(d.iteritems())\n",
    "<type 'dictionary-itemiterator'>\n",
    "\n",
    "```\n",
    "You can see that `d.items()` returns a list of tuples of the key, value pairs `[(key, value), (key, value), ...]` and `d.iteritems()` returns a dictionary-itemiterator."
   ]
  },
  {
   "cell_type": "markdown",
   "metadata": {},
   "source": [
    "### 2.  range vs xrange"
   ]
  },
  {
   "cell_type": "markdown",
   "metadata": {},
   "source": [
    "`range` put entire list into memory at once while `xrange` put entire list into memory step by step. \n",
    "\n",
    "`range` is a generator function, to generate the data you need to put it inside some object like list."
   ]
  },
  {
   "cell_type": "code",
   "execution_count": 5,
   "metadata": {},
   "outputs": [
    {
     "data": {
      "text/plain": [
       "range(1, 10)"
      ]
     },
     "execution_count": 5,
     "metadata": {},
     "output_type": "execute_result"
    }
   ],
   "source": [
    "range(1,10)"
   ]
  },
  {
   "cell_type": "code",
   "execution_count": 6,
   "metadata": {},
   "outputs": [
    {
     "data": {
      "text/plain": [
       "[1, 2, 3, 4, 5, 6, 7, 8, 9]"
      ]
     },
     "execution_count": 6,
     "metadata": {},
     "output_type": "execute_result"
    }
   ],
   "source": [
    "list(range(1,10))"
   ]
  },
  {
   "cell_type": "markdown",
   "metadata": {},
   "source": [
    "### Find data types of variables without using type fucntion"
   ]
  },
  {
   "cell_type": "code",
   "execution_count": 9,
   "metadata": {},
   "outputs": [
    {
     "name": "stdout",
     "output_type": "stream",
     "text": [
      "<class 'int'>\n"
     ]
    }
   ],
   "source": [
    "a = 5\n",
    "print(a.__class__)"
   ]
  },
  {
   "cell_type": "markdown",
   "metadata": {},
   "source": [
    "## List vs Tuples vs dictionary"
   ]
  },
  {
   "cell_type": "markdown",
   "metadata": {},
   "source": [
    "**_List [] vs tuple ()_**\n",
    "\n",
    "**List** is mutable (liable to change at runtime) while **tuples** are not. Use tuples when size is fixed/static."
   ]
  },
  {
   "cell_type": "markdown",
   "metadata": {},
   "source": [
    "//  db libs works this way in python\n",
    "\n",
    "```python \n",
    "db = [(112, 'Taqi', 'employee'), (115, 'Salman', 'employee'), (116, 'Turab', 'client')]\n",
    "```\n",
    "\n",
    "- use `tuple` when you know how many columns you have (remember fixed/static size)\n",
    "- use `list` when you don't know how many rows you have"
   ]
  },
  {
   "cell_type": "markdown",
   "metadata": {},
   "source": [
    "**_dict {} vs list []_**\n",
    "\n",
    "difference is just looping over both and accessing data."
   ]
  },
  {
   "cell_type": "markdown",
   "metadata": {},
   "source": [
    "## Conclustion"
   ]
  },
  {
   "cell_type": "markdown",
   "metadata": {},
   "source": [
    "Basic data types and how to use it\n",
    "\n",
    " - How to iterate over it\n",
    " - tuples, list, dict, sets, slicing, map\n",
    " - list comprehensive\n",
    " - Generators (decorators, iterators, generators, docstring)\n",
    " - Lambda (use to create small anonmous functions at runtime)\n",
    " - Shallow vs Deep Copy\n",
    " \n",
    " shallow is a pointer or refrence to some while deep copy copies the orignal content to newer memory location, changes made to copies object will also reflect to orignal."
   ]
  },
  {
   "cell_type": "code",
   "execution_count": null,
   "metadata": {},
   "outputs": [],
   "source": []
  }
 ],
 "metadata": {
  "kernelspec": {
   "display_name": "Python 3",
   "language": "python",
   "name": "python3"
  },
  "language_info": {
   "codemirror_mode": {
    "name": "ipython",
    "version": 3
   },
   "file_extension": ".py",
   "mimetype": "text/x-python",
   "name": "python",
   "nbconvert_exporter": "python",
   "pygments_lexer": "ipython3",
   "version": "3.6.5"
  }
 },
 "nbformat": 4,
 "nbformat_minor": 2
}
